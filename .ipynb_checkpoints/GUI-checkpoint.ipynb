{
 "cells": [
  {
   "cell_type": "markdown",
   "metadata": {},
   "source": [
    "# Reinforcement Learning Project : Crazy Taxi AI"
   ]
  },
  {
   "cell_type": "code",
   "execution_count": 78,
   "metadata": {
    "collapsed": true
   },
   "outputs": [],
   "source": [
    "import gym\n",
    "import numpy as np\n",
    "import matplotlib.pyplot as plt\n",
    "from collections import deque\n",
    "import random"
   ]
  },
  {
   "cell_type": "code",
   "execution_count": 79,
   "metadata": {},
   "outputs": [
    {
     "data": {
      "text/plain": [
       "[0, 0, 0, 2]"
      ]
     },
     "execution_count": 79,
     "metadata": {},
     "output_type": "execute_result"
    }
   ],
   "source": [
    "def base_convert(i, b):\n",
    "    result = []\n",
    "    while len(result)<b:\n",
    "            t=(i % b)\n",
    "            result=[t]+result\n",
    "            i = i // b\n",
    "    return result\n",
    "base_convert(2,4)"
   ]
  },
  {
   "cell_type": "code",
   "execution_count": 80,
   "metadata": {
    "collapsed": true
   },
   "outputs": [],
   "source": [
    "voies = 3\n",
    "rows = 4\n",
    "\n",
    "def init_states (voies,rows):\n",
    "    states=[]\n",
    "    for i in range((voies+1)**(rows)):\n",
    "        for j in range(voies):\n",
    "            states+=[base_convert(i,voies+1) + [j]]\n",
    "    return states\n",
    "\n",
    "states=init_states(voies, rows)\n",
    "\n",
    "def hash_s(s):\n",
    "    name=\"\"\n",
    "    for j in s : \n",
    "        name=name+str(j)\n",
    "    return name\n",
    "\n",
    "def init_q(states) : \n",
    "    q={}\n",
    "    for i in states :\n",
    "        name = hash_s(i)\n",
    "        if i[rows]==0 :\n",
    "            actions_l = {\"1\":0, \"2\":0}\n",
    "            q[name]=actions_l\n",
    "        elif i[rows]==voies-1 :\n",
    "            actions_r = {\"1\":0, \"0\":0}\n",
    "            q[name]=actions_r\n",
    "        else: \n",
    "            actions_c= {\"0\":0, \"1\":0,\"2\":0}\n",
    "            q[name]=actions_c\n",
    "    return q\n",
    "            \n",
    "q=init_q(states)\n"
   ]
  },
  {
   "cell_type": "code",
   "execution_count": 81,
   "metadata": {},
   "outputs": [
    {
     "data": {
      "text/plain": [
       "[3, 1, 3, 1, 0]"
      ]
     },
     "execution_count": 81,
     "metadata": {},
     "output_type": "execute_result"
    }
   ],
   "source": [
    "def add_car(t) : \n",
    "    j = random.random()\n",
    "    p=t*j\n",
    "    pos = voies\n",
    "    if (j)>0.5:\n",
    "        pos = random.randint(0,voies-1)\n",
    "    return pos\n",
    "\n",
    "def next_state(s,a,t=2):\n",
    "    impossible3 = [[0,1,2],[2,1,0],[0,1,1],[2,1,1]]\n",
    "    impossible5 = [[0,1,3,1,0],[2,1,3,1,2]]\n",
    "    state = [add_car(t)]+s[0:(rows-1)]+[s[rows]+int(a)-1]\n",
    "    while (state[0:3] in impossible3 or state in impossible5):\n",
    "        state[0] = add_car(t)\n",
    "    return state\n",
    "\n",
    "next_state([1,3,1,3,0],1)\n",
    "    "
   ]
  },
  {
   "cell_type": "code",
   "execution_count": 82,
   "metadata": {},
   "outputs": [
    {
     "data": {
      "text/plain": [
       "'1'"
      ]
     },
     "execution_count": 82,
     "metadata": {},
     "output_type": "execute_result"
    }
   ],
   "source": [
    "#Defining the environment \n",
    "#Convention \n",
    "g=-1\n",
    "Actions = [\"l\", \"r\", \"k\"]\n",
    "s0 = {\"grid\" : np.zeros((3,4)) , \"position\" : 0}\n",
    "\n",
    "def act_with_softmax(s, q):\n",
    "    prob_a = softmax(q[s, :])\n",
    "    cumsum_a = np.cumsum(prob_a)\n",
    "    return np.where(np.random.rand() < cumsum_a)[0][0]\n",
    "\n",
    "def keywithmaxval(d):\n",
    "    v = list(d.values())\n",
    "    k = list(d.keys()) \n",
    "    return k[v.index(max(v))]\n",
    "\n",
    "def reward(s,a):\n",
    "    pos=s[-1]\n",
    "    back= s[-2]\n",
    "    front = s[-3]\n",
    "    next_pos= pos+int(a)-1\n",
    "    if (next_pos==front or next_pos==back):\n",
    "        return -3\n",
    "    return 1\n",
    "\n",
    "def act_with_epsilon_greedy(s, q,epsilon=0.5):\n",
    "    local_q = q[hash_s(s)]\n",
    "    local_list = list(local_q.keys())\n",
    "    if np.random.rand() < epsilon:\n",
    "        a = np.random.randint(0,len(local_list))\n",
    "        return local_list[a]\n",
    "    a = keywithmaxval(local_q)\n",
    "    return a\n",
    "\n",
    "\n",
    "\n",
    "def find_maxQ(s, q):\n",
    "    local_q = q[hash_s(s)]\n",
    "    local_list = list(local_q.values())\n",
    "    return max(local_list)\n",
    "    \n",
    "act_with_epsilon_greedy([0,3,1,0,2],q) \n",
    "\n",
    "        "
   ]
  },
  {
   "cell_type": "code",
   "execution_count": 85,
   "metadata": {},
   "outputs": [],
   "source": [
    "import tkinter as tk\n",
    "from PIL import Image, ImageTk  \n",
    "\n",
    "image_car = Image.open(\"car.jpg\")\n",
    "image_car = image_car.resize((40,60))\n",
    "\n",
    "image_taxi = Image.open(\"taxi.png\") \n",
    "image_taxi = image_taxi.resize((40,60))\n",
    "\n",
    "image_piece = Image.open(\"piece.jpeg\")\n",
    "image_piece = image_piece.resize((30,30))\n",
    "\n",
    "def taxi_color(x,y,height,width):\n",
    "    draw_car(x,y,height,width,color='red')\n",
    "    \n",
    "def car_color(x,y,height,width):\n",
    "    draw_car(x,y,height,width,color='blue')\n",
    "    \n",
    "def draw_car_color(x,y,height,width,color,voies=3,rows=4):\n",
    "    \"\"\" Dessine un cercle de centre (x,y) et de rayon r \"\"\"\n",
    "    r = 20\n",
    "    coef_x, coef_y = height/(rows-1) , width/(1+voies)\n",
    "    x = x*coef_x+2*r\n",
    "    y = y*coef_y+2*r\n",
    "    Canevas.create_oval(x-r, y-r, x+r, y+r, outline=color, fill=color)\n",
    "    \n",
    "def taxi(x,y,height,width):\n",
    "    draw_car(x,y,height,width,photo = photo_taxi)\n",
    "    \n",
    "def car(x,y,height,width):\n",
    "    draw_car(x,y,height,width,photo = photo_car)\n",
    "    \n",
    "def draw_car(x,y,height,width,photo,voies=3,rows=4):\n",
    "    \"\"\" Dessine une photo de centre (x,y) \"\"\"\n",
    "    r = 20\n",
    "    coef_x, coef_y = height/(rows-1) , width/(1+voies)\n",
    "    x = x*coef_x+2*r\n",
    "    y = y*coef_y+2*r\n",
    "    Canevas.create_image(x-r, y-r, anchor = tk.NW, image=photo) \n",
    "    \n",
    "def print_state(s,i,t):\n",
    "    global Hauteur, Largeur\n",
    "    Canevas.delete(\"all\")\n",
    "    s = [-5 if x == 3 else x for x in s]\n",
    "    for j in range(len(s[:-1])):\n",
    "        car(s[j],j,Hauteur,Largeur)\n",
    "    taxi(s[-1],len(s)-2,Hauteur,Largeur)\n",
    "    Canevas.create_text(100, Largeur - 20, text = \"Episode : \"+str(i))\n",
    "    Canevas.create_text(100, Largeur - 10, text = \"Temps : \"+str(t))\n",
    "    Canevas.update_idletasks()\n"
   ]
  },
  {
   "cell_type": "code",
   "execution_count": 87,
   "metadata": {},
   "outputs": [
    {
     "data": {
      "image/png": "[encoded data removed]",
      "text/plain": [
       "<matplotlib.figure.Figure at 0x7f1447830ef0>"
      ]
     },
     "metadata": {},
     "output_type": "display_data"
    }
   ],
   "source": [
    "Mafenetre = tk.Tk()\n",
    "Mafenetre.title('Crazy Taxi')\n",
    "\n",
    "photo_taxi = ImageTk.PhotoImage(image_taxi, master = Mafenetre)\n",
    "photo_car = ImageTk.PhotoImage(image_car, master = Mafenetre)\n",
    "\n",
    "bg = Image.open(\"road.jpeg\") \n",
    "background = ImageTk.PhotoImage(bg, master = Mafenetre)\n",
    "\n",
    "Largeur = 450\n",
    "Hauteur = 500\n",
    "Canevas = tk.Canvas(Mafenetre, width = Largeur, height = Hauteur, bg ='white')\n",
    "Canevas.create_image(0,0, image = background, anchor = tk.NW)\n",
    "Canevas.pack(padx =5, pady =5)\n",
    "\n",
    "def q_learning(num_episode = 10, gamma=0.9, alpha=0.1,voies=3, rows=4, epsilon = 0.3):\n",
    "    states= init_states(voies,rows)\n",
    "    q = init_q(states) \n",
    "    x=[]\n",
    "    \n",
    "    cumul = 0\n",
    "    \n",
    "    for i in range(num_episode):\n",
    "        s = [random.randint(0,voies),random.randint(0,voies),3,3,random.randint(0,voies-1)]\n",
    "        r=0\n",
    "        t=0\n",
    "        Display = False\n",
    "        \n",
    "        cumul += 1/(i+1) \n",
    "        if(cumul>1):\n",
    "            cumul=0\n",
    "            Display = True\n",
    "        \n",
    "        while (r!=-3):\n",
    "            if(Display):\n",
    "                Mafenetre.after(max(1,100-t), print_state(s,i,t))\n",
    "            \n",
    "            t+=1\n",
    "            a = act_with_epsilon_greedy(s,q,epsilon*(10/(i+1)))\n",
    "            r=reward(s,a)\n",
    "            if (Display & r==-3):\n",
    "                sleep(100)\n",
    "            s_prime = next_state(s,a,t)\n",
    "            delta = r + gamma*find_maxQ(s_prime,q) - q[hash_s(s)][a]\n",
    "            q[hash_s(s)][a] += alpha * delta\n",
    "            s=s_prime\n",
    "            if(t>1000):\n",
    "                break\n",
    "        x += [t]\n",
    "            \n",
    "    return x\n",
    "\n",
    "from matplotlib import pyplot as plt\n",
    "Y = q_learning()\n",
    "X = [i for i in range(len(Y))]\n",
    "plt.plot(X,Y)\n",
    "plt.show()   \n",
    "    \n",
    "Mafenetre.mainloop()"
   ]
  },
  {
   "cell_type": "code",
   "execution_count": 152,
   "metadata": {},
   "outputs": [
    {
     "data": {
      "image/png": "[encoded data removed]",
      "text/plain": [
       "<matplotlib.figure.Figure at 0x7f37f24407f0>"
      ]
     },
     "metadata": {},
     "output_type": "display_data"
    }
   ],
   "source": [
    "Y_prime = [np.mean(Y[0:i]) for i in range(1,len(Y))]\n",
    "X = [i for i in range(len(Y_prime))]\n",
    "plt.plot(X,Y_prime)\n",
    "plt.show()   "
   ]
  },
  {
   "cell_type": "code",
   "execution_count": 8,
   "metadata": {},
   "outputs": [
    {
     "name": "stdout",
     "output_type": "stream",
     "text": [
      "Episode : 1\n",
      "[([0, 3, 3, 1, 0], '1'), ([3, 0, 3, 3, 0], '2'), ([3, 3, 0, 3, 1], '0')]\n",
      "Episode : 1\n",
      "[([0, 3, 3, 1, 0], '1'), ([3, 0, 3, 3, 0], '2'), ([3, 3, 0, 3, 1], '0')]\n",
      "Episode : 1\n",
      "[([0, 3, 3, 1, 0], '1'), ([3, 0, 3, 3, 0], '2'), ([3, 3, 0, 3, 1], '0')]\n",
      "Episode : 6\n",
      "[([3, 1, 3, 3, 2], '1'), ([2, 3, 1, 3, 2], '0')]\n",
      "Episode : 6\n",
      "[([3, 1, 3, 3, 2], '1'), ([2, 3, 1, 3, 2], '0')]\n",
      "Episode : 19\n",
      "[([2, 1, 3, 3, 0], '1'), ([3, 2, 1, 3, 0], '2')]\n",
      "Episode : 19\n",
      "[([2, 1, 3, 3, 0], '1'), ([3, 2, 1, 3, 0], '2')]\n",
      "Episode : 55\n",
      "[([3, 1, 1, 3, 2], '1'), ([3, 3, 1, 1, 2], '1'), ([3, 3, 3, 1, 2], '0')]\n",
      "Episode : 55\n",
      "[([3, 1, 1, 3, 2], '1'), ([3, 3, 1, 1, 2], '1'), ([3, 3, 3, 1, 2], '0')]\n",
      "Episode : 55\n",
      "[([3, 1, 1, 3, 2], '1'), ([3, 3, 1, 1, 2], '1'), ([3, 3, 3, 1, 2], '0')]\n",
      "Episode : 153\n",
      "[([1, 2, 3, 3, 0], '2'), ([3, 1, 2, 3, 1], '2')]\n",
      "Episode : 153\n",
      "[([1, 2, 3, 3, 0], '2'), ([3, 1, 2, 3, 1], '2')]\n",
      "Episode : 419\n",
      "[([2, 0, 2, 0, 2], '0'), ([0, 2, 0, 2, 1], '1'), ([2, 0, 2, 0, 1], '2')]\n",
      "Episode : 419\n",
      "[([2, 0, 2, 0, 2], '0'), ([0, 2, 0, 2, 1], '1'), ([2, 0, 2, 0, 1], '2')]\n",
      "Episode : 419\n",
      "[([2, 0, 2, 0, 2], '0'), ([0, 2, 0, 2, 1], '1'), ([2, 0, 2, 0, 1], '2')]\n"
     ]
    },
    {
     "data": {
      "image/png": "[encoded data removed]",
      "text/plain": [
       "<matplotlib.figure.Figure at 0x7f14506d8f28>"
      ]
     },
     "metadata": {},
     "output_type": "display_data"
    }
   ],
   "source": [
    "Mafenetre = tk.Tk()\n",
    "Mafenetre.title('Crazy Taxi')\n",
    "Largeur = 450\n",
    "Hauteur = 500\n",
    "Canevas = tk.Canvas(Mafenetre, width = Largeur, height = Hauteur, bg ='white')\n",
    "Canevas.pack(padx =5, pady =5)\n",
    "\n",
    "def q_learning_backprop(num_episode = 4000, gamma=0.9, alpha=0.1,voies=3, rows=4, epsilon = 0.3,register_size=3):\n",
    "    states= init_states(voies,rows)\n",
    "    q = init_q(states) \n",
    "    x=[]\n",
    "    \n",
    "    cumul = 0\n",
    "    \n",
    "    for i in range(num_episode):\n",
    "        s = [random.randint(0,voies),random.randint(0,voies),3,3,random.randint(0,voies-1)]\n",
    "        r=0\n",
    "        t=0\n",
    "        Display = False\n",
    "        history = []\n",
    "        \n",
    "        cumul += 1/(i+1) \n",
    "        if(cumul>1):\n",
    "            cumul=0\n",
    "            Display = True\n",
    "        \n",
    "        while (r!=-3):\n",
    "            if(i==2000):\n",
    "                Mafenetre.after(500, print_state(s,i,t))\n",
    "                #Mafenetre.after(max(1,10-t), print_state(s,i,t))\n",
    "            t+=1\n",
    "            a = act_with_epsilon_greedy(s,q,epsilon*np.exp(-i/100))\n",
    "            r=reward(s,a)\n",
    "            if len(history)<register_size :\n",
    "                history.append((s,a))\n",
    "            else :\n",
    "                history=history[1:5]+[(s,a)]\n",
    "                \n",
    "            s_prime = next_state(s,a,t)\n",
    "            delta = r + gamma*find_maxQ(s_prime,q) - q[hash_s(s)][a]\n",
    "            q[hash_s(s)][a] += alpha * delta\n",
    "            s=s_prime \n",
    "            \n",
    "            if r==-3 : \n",
    "                for j in range(len(history)) : \n",
    "                    q[hash_s(history[j][0])][history[j][1]] += r * np.exp((j-register_size-1)/5)\n",
    "                    \n",
    "                    if(Display):\n",
    "                        print(\"Episode : \" +  str(i))\n",
    "                        print(history)\n",
    "                        #Mafenetre.after(1000, print_state(history[j][0],\"Mort : \"+str(i),t+j))\n",
    "            if(t>1000):\n",
    "                break\n",
    "        x += [t]\n",
    "            \n",
    "    return x\n",
    "\n",
    "from matplotlib import pyplot as plt\n",
    "Y = q_learning_backprop()\n",
    "X = [i for i in range(len(Y))]\n",
    "plt.plot(X,Y)\n",
    "plt.show()   \n",
    "    \n",
    "Mafenetre.mainloop()"
   ]
  },
  {
   "cell_type": "code",
   "execution_count": 146,
   "metadata": {},
   "outputs": [
    {
     "data": {
      "image/png": "[encoded data removed]",
      "text/plain": [
       "<matplotlib.figure.Figure at 0x7f37f23d4b70>"
      ]
     },
     "metadata": {},
     "output_type": "display_data"
    }
   ],
   "source": [
    "Y_prime = [np.mean(Y[0:i]) for i in range(1,len(Y))]\n",
    "X = [i for i in range(len(Y_prime))]\n",
    "plt.plot(X,Y_prime)\n",
    "plt.show()  "
   ]
  },
  {
   "cell_type": "code",
   "execution_count": 147,
   "metadata": {},
   "outputs": [
    {
     "data": {
      "text/plain": [
       "1001.0"
      ]
     },
     "execution_count": 147,
     "metadata": {},
     "output_type": "execute_result"
    }
   ],
   "source": [
    "np.mean(Y[-1000:-1])"
   ]
  }
 ],
 "metadata": {
  "kernelspec": {
   "display_name": "Python 3",
   "language": "python",
   "name": "python3"
  },
  "language_info": {
   "codemirror_mode": {
    "name": "ipython",
    "version": 3
   },
   "file_extension": ".py",
   "mimetype": "text/x-python",
   "name": "python",
   "nbconvert_exporter": "python",
   "pygments_lexer": "ipython3",
   "version": "3.6.4"
  }
 },
 "nbformat": 4,
 "nbformat_minor": 2
}
